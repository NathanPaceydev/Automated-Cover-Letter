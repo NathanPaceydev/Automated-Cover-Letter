{
 "cells": [
  {
   "cell_type": "code",
   "execution_count": 1,
   "id": "5df87934",
   "metadata": {},
   "outputs": [
    {
     "name": "stdout",
     "output_type": "stream",
     "text": [
      "September 30, 2021\n",
      "Company Name\n",
      "Magna New Technologies and Innovation\n",
      "\n",
      "type of role:\n",
      "systems\n",
      "Loction\n",
      "Newmarket\n",
      "Type of Technologies:\n",
      "vehicular\n"
     ]
    }
   ],
   "source": [
    "# program to write a cover letter depending on the company type of work ect\n",
    "import datetime\n",
    "\n",
    "date = str(datetime.datetime.now().strftime(\"%B\")+\" \"+datetime.datetime.now().strftime(\"%d\")+\", \"+datetime.datetime.now().strftime(\"%Y\"))\n",
    "print(date)\n",
    "\n",
    "print(\"Company Name\")\n",
    "CompanyName = input()\n",
    "\n",
    "print()\n",
    "\n",
    "print(\"type of role:\")\n",
    "role = input()\n",
    "\n",
    "print(\"Loction\")\n",
    "Location = input()\n",
    "\n",
    "print(\"Type of Technologies:\")\n",
    "fieldtype = input()"
   ]
  },
  {
   "cell_type": "code",
   "execution_count": 2,
   "id": "701d4ffb",
   "metadata": {},
   "outputs": [
    {
     "name": "stdout",
     "output_type": "stream",
     "text": [
      "Magna New Technologies and Innovation\n",
      "Newmarket\n",
      "\t\t\t\t\t\t\t\t\t\tSeptember 30, 2021\n",
      "systems - Internship opportunity\n",
      "\n",
      "To whom it may concern,\n",
      "\n",
      "I am extremely excited to learn of potential student employment opportunities available at Magna New Technologies and Innovation, and wish to apply to such positions. I believe that my background and experience, combined with my passion for physics and integrated systems makes me a well-suited candidate for such a role. My engineering studies and previous employment experiences have allowed me to develop many skills that would be valuable to Magna New Technologies and Innovation. I am currently studying Engineering Physics and Computing at Queens University with a GPA of 3.84.\n",
      "\n",
      "As a Project Engineering Co-op in the New Technology and Innovation Labs at Magna Mechatronics, I was responsible for developing several technical systems using a combination of electrical, mechanical and software design. Through the utilization of applied mathematics, I was able to develop laser animations for a Quantum Dot taillight that I designed and created computer vision algorithms for collision detection. I also designed programs in Python and C++ for several embedded devices and robotic systems utilizing a variety of sensors including IR, Radar and Ultrasonic.\n",
      "\n",
      "As a Mechanical Design Intern, I have used tools such as SolidWorks and CAD software to assist in product design and testing for connected devices. Please find the solid models of many of my work on my GrabCAD.\n",
      "\n",
      "I am competent in programming languages such as; Python, C, C++, MATLAB, Java, HTML5 and CSS and have been responsible for data collection and analysis related to new product testing, design, and development. I am incredibly interested in using programming to simulate and solve real world problems using optimization algorithms and simple machine learning as illustrated in my GitHub.\n",
      "\n",
      "I am familiar with all aspects of Microsoft Office and have experience developing customer-facing documents as well as front-end/customer-facing web sites. Furthermore, I am competent in computer-aided design, software development and mathematical problem solving with a proficiency in technically challenging problems.\n",
      "\n",
      "Throughout my career, I have contributed to positive business results by being effectively organized, able to manage multiple priorities at once and ensuring that I follow through assigned tasks to their conclusion. While I am independently motivated, I am also a team player that appreciates collective efforts and collaborates productively within group settings. \n",
      "\n",
      "Simply put, I would be highly motivated to advance my knowledge of systems engineering and physics by working for an enterprise that is leading the charge to innovate vehicular Technologies. \n",
      "\n",
      "Thank you for your kind consideration and would enjoy the opportunity to discuss my application with you in the near future.\n",
      "\n",
      "Sincerely,\n",
      "Nathan Pacey\n",
      "\n",
      "226-988-3313 \n",
      "\n",
      "Npacey01@gmail.com\n",
      "\n",
      "Grab CAD: https://grabcad.com/nathan.pacey-1 \n",
      "\n",
      "GitHub: https://github.com/NathanPaceydev/\n"
     ]
    }
   ],
   "source": [
    "CoverLetterString = (CompanyName)+\"\\n\"+Location+\"\\n\\t\\t\\t\\t\\t\\t\\t\\t\\t\\t\" + str(date)+\"\\n\" + str(role)+\" - Internship opportunity\\n\\nTo whom it may concern,\\n\\nI am extremely excited to learn of potential student employment opportunities available at \"+CompanyName+\", and wish to apply to such positions. I believe that my background and experience, combined with my passion for physics and integrated systems makes me a well-suited candidate for such a role. My engineering studies and previous employment experiences have allowed me to develop many skills that would be valuable to \"+CompanyName+\". I am currently studying Engineering Physics and Computing at Queens University with a GPA of 3.84.\\n\\nAs a Project Engineering Co-op in the New Technology and Innovation Labs at Magna Mechatronics, I was responsible for developing several technical systems using a combination of electrical, mechanical and software design. Through the utilization of applied mathematics, I was able to develop laser animations for a Quantum Dot taillight that I designed and created computer vision algorithms for collision detection. I also designed programs in Python and C++ for several embedded devices and robotic systems utilizing a variety of sensors including IR, Radar and Ultrasonic.\\n\\nAs a Mechanical Design Intern, I have used tools such as SolidWorks and CAD software to assist in product design and testing for connected devices. Please find the solid models of many of my work on my GrabCAD.\\n\\nI am competent in programming languages such as; Python, C, C++, MATLAB, Java, HTML5 and CSS and have been responsible for data collection and analysis related to new product testing, design, and development. I am incredibly interested in using programming to simulate and solve real world problems using optimization algorithms and simple machine learning as illustrated in my GitHub.\\n\\nI am familiar with all aspects of Microsoft Office and have experience developing customer-facing documents as well as front-end/customer-facing web sites. Furthermore, I am competent in computer-aided design, software development and mathematical problem solving with a proficiency in technically challenging problems.\\n\\nThroughout my career, I have contributed to positive business results by being effectively organized, able to manage multiple priorities at once and ensuring that I follow through assigned tasks to their conclusion. While I am independently motivated, I am also a team player that appreciates collective efforts and collaborates productively within group settings. \\n\\nSimply put, I would be highly motivated to advance my knowledge of \"+str(role)+ \" engineering and physics by working for an enterprise that is leading the charge to innovate \"+fieldtype+\" Technologies. \\n\\nThank you for your kind consideration and would enjoy the opportunity to discuss my application with you in the near future.\\n\\nSincerely,\\nNathan Pacey\\n\\n226-988-3313 \\n\\nNpacey01@gmail.com\\n\\nGrab CAD: https://grabcad.com/nathan.pacey-1 \\n\\nGitHub: https://github.com/NathanPaceydev/\"\n",
    "\n",
    "print(CoverLetterString)\n"
   ]
  },
  {
   "cell_type": "code",
   "execution_count": 3,
   "id": "b302e786",
   "metadata": {},
   "outputs": [],
   "source": [
    "from docxtpl import DocxTemplate\n",
    "\n",
    "\n",
    "doc = DocxTemplate(\"master_cover_letter.docx\")\n",
    "context = { 'today_date': date, \n",
    "           'company_name' : CompanyName, \n",
    "           'position_name' : role,\n",
    "           'field_type' : fieldtype,\n",
    "          'location' : Location}\n",
    "\n",
    "doc.render(context)\n",
    "\n",
    "doc.save('Cover_letter_'+CompanyName+'_'+role+'.docx')"
   ]
  },
  {
   "cell_type": "code",
   "execution_count": null,
   "id": "af831c4b",
   "metadata": {},
   "outputs": [],
   "source": []
  }
 ],
 "metadata": {
  "kernelspec": {
   "display_name": "Python 3 (ipykernel)",
   "language": "python",
   "name": "python3"
  },
  "language_info": {
   "codemirror_mode": {
    "name": "ipython",
    "version": 3
   },
   "file_extension": ".py",
   "mimetype": "text/x-python",
   "name": "python",
   "nbconvert_exporter": "python",
   "pygments_lexer": "ipython3",
   "version": "3.9.6"
  }
 },
 "nbformat": 4,
 "nbformat_minor": 5
}
